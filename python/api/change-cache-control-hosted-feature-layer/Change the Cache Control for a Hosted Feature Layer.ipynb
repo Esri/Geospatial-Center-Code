{
 "cells": [
  {
   "cell_type": "markdown",
   "metadata": {},
   "source": [
    "## Change the Cache Control for a Hosted Feature Layer\n",
    "This python notebook will show you how to update the Cache Control option for an ArcGIS Online Feature Layer. For more information on this option, see the [help documentation](https://doc.arcgis.com/en/arcgis-online/manage-data/manage-hosted-feature-layers.htm#CDN)."
   ]
  },
  {
   "cell_type": "markdown",
   "metadata": {},
   "source": [
    "#### Run this cell to connect to your GIS and get started:"
   ]
  },
  {
   "cell_type": "code",
   "execution_count": null,
   "metadata": {},
   "outputs": [],
   "source": [
    "from arcgis.gis import GIS\n",
    "from arcgis.features import FeatureLayer\n",
    "gis = GIS(\"home\")"
   ]
  },
  {
   "cell_type": "markdown",
   "metadata": {},
   "source": [
    "Get your Hosted Feature Layer Item"
   ]
  },
  {
   "cell_type": "code",
   "execution_count": null,
   "metadata": {},
   "outputs": [],
   "source": [
    "item = gis.content.get(\"<item id goes here>\")\n",
    "item"
   ]
  },
  {
   "cell_type": "markdown",
   "metadata": {},
   "source": [
    "Create a FeatureLayer from that item using its URL property"
   ]
  },
  {
   "cell_type": "code",
   "execution_count": null,
   "metadata": {},
   "outputs": [],
   "source": [
    "fl = FeatureLayer(item.url)\n",
    "fl"
   ]
  },
  {
   "cell_type": "markdown",
   "metadata": {},
   "source": [
    "Specify the cache update duration\n",
    "\n",
    "Possible options are:\n",
    "```\n",
    "0 (Never)\n",
    "30 (30 seconds)\n",
    "60 (1 minute)\n",
    "120 (2 minutes)\n",
    "300 (5 minutes)\n",
    "900 (15 minutes)\n",
    "1800 (30 minutes)\n",
    "3600 (1 hour)\n",
    "```"
   ]
  },
  {
   "cell_type": "code",
   "execution_count": null,
   "metadata": {},
   "outputs": [],
   "source": [
    "cache_update = {\"cacheMaxAge\":3600}\n",
    "fl.manager.update_definition(cache_update)"
   ]
  }
 ],
 "metadata": {
  "esriNotebookRuntime": {
   "notebookRuntimeName": "ArcGIS Notebook Python 3 Standard",
   "notebookRuntimeVersion": "4.0"
  },
  "kernelspec": {
   "display_name": "Python 3",
   "language": "python",
   "name": "python3"
  },
  "language_info": {
   "codemirror_mode": {
    "name": "ipython",
    "version": 3
   },
   "file_extension": ".py",
   "mimetype": "text/x-python",
   "name": "python",
   "nbconvert_exporter": "python",
   "pygments_lexer": "ipython3",
   "version": "3.6.10"
  }
 },
 "nbformat": 4,
 "nbformat_minor": 2
}