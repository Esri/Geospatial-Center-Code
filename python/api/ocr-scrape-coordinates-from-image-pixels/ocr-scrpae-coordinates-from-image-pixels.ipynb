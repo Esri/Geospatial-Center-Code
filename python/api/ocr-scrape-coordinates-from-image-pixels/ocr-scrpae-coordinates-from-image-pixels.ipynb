{
 "cells": [
  {
   "cell_type": "code",
   "execution_count": null,
   "metadata": {},
   "outputs": [],
   "source": [
    "import os\n",
    "import datetime\n",
    "import pytesseract\n",
    "from PIL import Image"
   ]
  },
  {
   "cell_type": "code",
   "execution_count": null,
   "metadata": {},
   "outputs": [],
   "source": [
    "images_path = \"C:\\\\1_projects\\\\138_fedgis2021\\\\OCR\\\\images\\\\\"\n",
    "pytesseract.pytesseract.tesseract_cmd = r'C:\\Program Files\\Tesseract-OCR\\tesseract.exe'"
   ]
  },
  {
   "cell_type": "code",
   "execution_count": null,
   "metadata": {},
   "outputs": [],
   "source": [
    "arcpy.env.workspace = images_path\n",
    "current_time = datetime.datetime.now().strftime(\"%B_%d_%Y_%I_%M_%S%p\")\n",
    "arcpy.CreateFileGDB_management(images_path, current_time + '.gdb')\n",
    "SR = arcpy.SpatialReference(4326)\n",
    "new_point = arcpy.CreateFeatureclass_management(images_path + current_time + '.gdb', \"Images\", 'POINT', spatial_reference=SR)\n",
    "fc = new_point[0]\n",
    "arcpy.AddField_management(fc, \"Name\", \"TEXT\", \"\", \"\", 100, \"Name\")\n",
    "arcpy.AddField_management(fc, \"City\", \"TEXT\", \"\", \"\", 100, \"City\")\n",
    "arcpy.AddField_management(fc, \"File\", \"TEXT\", \"\", \"\", 100, \"File\")\n",
    "\n",
    "for filename in os.listdir(images_path):\n",
    "    if filename.endswith(\".JPG\") or filename.endswith(\".PNG\") or filename.endswith(\".jpg\") or filename.endswith(\".png\"):\n",
    "        text = pytesseract.image_to_string(Image.open(images_path + filename))\n",
    "        split_all = text.split(\"\\n\")\n",
    "        name = split_all[0]\n",
    "        city = split_all[1]\n",
    "        coords = split_all[2].split(\" Lng: \")\n",
    "        lat = coords[0].replace(\"Lat: \", \"\")\n",
    "        lng = coords[1]\n",
    "        with arcpy.da.InsertCursor(fc, ['SHAPE@', 'Name', \"City\", \"File\"]) as cursor:\n",
    "            coordinates = arcpy.Point(lng,lat)\n",
    "            cursor.insertRow((coordinates, name, city, filename))\n",
    "        print(name + \" added.\")\n",
    "        \n",
    "print(\"\\nExport complete.\")"
   ]
  },
  {
   "cell_type": "code",
   "execution_count": null,
   "metadata": {},
   "outputs": [],
   "source": []
  }
 ],
 "metadata": {
  "kernelspec": {
   "display_name": "ArcGISPro",
   "language": "Python",
   "name": "python3"
  },
  "language_info": {
   "file_extension": ".py",
   "name": "python",
   "version": "3"
  }
 },
 "nbformat": 4,
 "nbformat_minor": 2
}
