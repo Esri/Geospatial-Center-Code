{
 "cells": [
  {
   "cell_type": "code",
   "execution_count": null,
   "metadata": {},
   "outputs": [],
   "source": [
    "'''''''''''''''''''''''''''''''''''''''''''''''''''''''''''''''''\n",
    "# @Title: ArcGIS Online Administration Notebook\n",
    "#\n",
    "# @Purpose: this notebook is a sample of how the ArcGIS Python\n",
    "# API can be used to adminster a portal. Specifically, this\n",
    "# notebook generates a report of: \n",
    "# 1) items in the portal, including those with the word 'test' in the tag or the title\n",
    "# 2) user status based on last login and activities\n",
    "# 3) Hosted feature services used in the org\n",
    "# The reports update a hosted table connected to a dashboard for interactive exploration. \n",
    "#\n",
    "# @Creator: ckwon@esri.com\n",
    "# @Credits: Building upon work done by Geospatial Center SEs\n",
    "# @Last Updated: March 2021\n",
    "#\n",
    "# @Versions: ArcGIS Python API v1.8.4\n",
    "#\n",
    "# @License: See end of notebook\n",
    "'''''''''''''''''''''''''''''''''''''''''''''''''''''''''''''''''"
   ]
  },
  {
   "cell_type": "markdown",
   "metadata": {},
   "source": [
    "# Import Libraries & Connect to the portal"
   ]
  },
  {
   "cell_type": "code",
   "execution_count": 2,
   "metadata": {},
   "outputs": [],
   "source": [
    "#Import relevant libraries\n",
    "import io\n",
    "import csv\n",
    "import time\n",
    "import getpass\n",
    "import requests\n",
    "import datetime\n",
    "import pandas as pd\n",
    "from arcgis.features import FeatureLayer\n",
    "from arcgis.gis import GIS, Item, User\n",
    "from arcgis.gis.admin import License, LicenseManager"
   ]
  },
  {
   "cell_type": "code",
   "execution_count": 3,
   "metadata": {},
   "outputs": [
    {
     "name": "stdin",
     "output_type": "stream",
     "text": [
      "Password: ············\n"
     ]
    }
   ],
   "source": [
    "##REQUIRE USER INPUT##\n",
    "#Assign ArcGIS Online organization for administration\n",
    "org = 'https://esriaiddev.maps.arcgis.com/home'\n",
    "username = 'ckwon_aid'\n",
    "password = getpass.getpass(prompt='Password:')"
   ]
  },
  {
   "cell_type": "code",
   "execution_count": 4,
   "metadata": {},
   "outputs": [],
   "source": [
    "#Connect to the GIS environment\n",
    "gis = GIS(url=org, username=username, password=password)"
   ]
  },
  {
   "cell_type": "markdown",
   "metadata": {},
   "source": [
    "# Item Administration"
   ]
  },
  {
   "cell_type": "code",
   "execution_count": 5,
   "metadata": {},
   "outputs": [
    {
     "data": {
      "text/html": [
       "<div>\n",
       "<style scoped>\n",
       "    .dataframe tbody tr th:only-of-type {\n",
       "        vertical-align: middle;\n",
       "    }\n",
       "\n",
       "    .dataframe tbody tr th {\n",
       "        vertical-align: top;\n",
       "    }\n",
       "\n",
       "    .dataframe thead th {\n",
       "        text-align: right;\n",
       "    }\n",
       "</style>\n",
       "<table border=\"1\" class=\"dataframe\">\n",
       "  <thead>\n",
       "    <tr style=\"text-align: right;\">\n",
       "      <th></th>\n",
       "      <th>id</th>\n",
       "      <th>title</th>\n",
       "      <th>owner</th>\n",
       "      <th>fullname</th>\n",
       "      <th>size</th>\n",
       "      <th>created</th>\n",
       "      <th>modified</th>\n",
       "      <th>url</th>\n",
       "    </tr>\n",
       "  </thead>\n",
       "  <tbody>\n",
       "    <tr>\n",
       "      <th>0</th>\n",
       "      <td>c13d470a1c024318ad221d75412649b4</td>\n",
       "      <td>SIDW_Forum_Sponsors</td>\n",
       "      <td>ssawaya_aid</td>\n",
       "      <td>Salim Sawaya</td>\n",
       "      <td>11105</td>\n",
       "      <td>2013-06-02 16:57:52.0</td>\n",
       "      <td>2021-03-22 19:41:53.0</td>\n",
       "      <td>None</td>\n",
       "    </tr>\n",
       "    <tr>\n",
       "      <th>1</th>\n",
       "      <td>d3bf9513eb6148e99df2436563fe3167</td>\n",
       "      <td>SIDW_Forum_Sponsors</td>\n",
       "      <td>ssawaya_aid</td>\n",
       "      <td>Salim Sawaya</td>\n",
       "      <td>57344</td>\n",
       "      <td>2013-06-02 16:57:55.0</td>\n",
       "      <td>2013-06-06 06:07:16.0</td>\n",
       "      <td>http://services.arcgis.com/LG9Yn2oFqZi5PnO5/ar...</td>\n",
       "    </tr>\n",
       "    <tr>\n",
       "      <th>2</th>\n",
       "      <td>8bfad945962f4d40b0ae7ce7f74293e3</td>\n",
       "      <td>SID-W 2013 Sponsors HQs</td>\n",
       "      <td>ssawaya_aid</td>\n",
       "      <td>Salim Sawaya</td>\n",
       "      <td>2781</td>\n",
       "      <td>2013-06-02 17:09:41.0</td>\n",
       "      <td>2013-06-06 17:02:16.0</td>\n",
       "      <td>None</td>\n",
       "    </tr>\n",
       "    <tr>\n",
       "      <th>3</th>\n",
       "      <td>b6f3ab78228f45578427ee1f055b0995</td>\n",
       "      <td>SID-W 2013 Sponsors</td>\n",
       "      <td>ssawaya_aid</td>\n",
       "      <td>Salim Sawaya</td>\n",
       "      <td>488</td>\n",
       "      <td>2013-06-02 17:11:19.0</td>\n",
       "      <td>2013-06-02 21:19:29.0</td>\n",
       "      <td>http://esriaiddev.maps.arcgis.com/apps/SocialM...</td>\n",
       "    </tr>\n",
       "    <tr>\n",
       "      <th>4</th>\n",
       "      <td>cb2cbb56c69746b0b5b29753c6bf404b</td>\n",
       "      <td>AgMarketFinder</td>\n",
       "      <td>ssawaya_aid</td>\n",
       "      <td>Salim Sawaya</td>\n",
       "      <td>0</td>\n",
       "      <td>2013-06-03 01:41:47.0</td>\n",
       "      <td>2013-06-03 05:45:51.0</td>\n",
       "      <td>http://marketfinder.info/</td>\n",
       "    </tr>\n",
       "    <tr>\n",
       "      <th>...</th>\n",
       "      <td>...</td>\n",
       "      <td>...</td>\n",
       "      <td>...</td>\n",
       "      <td>...</td>\n",
       "      <td>...</td>\n",
       "      <td>...</td>\n",
       "      <td>...</td>\n",
       "      <td>...</td>\n",
       "    </tr>\n",
       "    <tr>\n",
       "      <th>5398</th>\n",
       "      <td>76fc35d2fac04119a1a8a684f216299c</td>\n",
       "      <td>Environmental Impact Public Comment</td>\n",
       "      <td>ajenkins_EsriAidDev</td>\n",
       "      <td>Adam Jenkins</td>\n",
       "      <td>3721</td>\n",
       "      <td>2021-03-26 15:04:48.0</td>\n",
       "      <td>2021-03-26 15:09:18.0</td>\n",
       "      <td>https://EsriAidDev.maps.arcgis.com/apps/Crowds...</td>\n",
       "    </tr>\n",
       "    <tr>\n",
       "      <th>5399</th>\n",
       "      <td>dba564a23ac84b90bc4cfd2fc287a39f</td>\n",
       "      <td>Global Stream Flow Web Map-AJ</td>\n",
       "      <td>ajenkins_EsriAidDev</td>\n",
       "      <td>Adam Jenkins</td>\n",
       "      <td>3086</td>\n",
       "      <td>2021-03-26 19:20:39.0</td>\n",
       "      <td>2021-03-26 19:20:43.0</td>\n",
       "      <td>None</td>\n",
       "    </tr>\n",
       "    <tr>\n",
       "      <th>5400</th>\n",
       "      <td>2edf8faf5cc84269b6aad2d930f4d0ab</td>\n",
       "      <td>Stream</td>\n",
       "      <td>ajenkins_EsriAidDev</td>\n",
       "      <td>Adam Jenkins</td>\n",
       "      <td>670</td>\n",
       "      <td>2021-03-26 19:23:23.0</td>\n",
       "      <td>2021-03-26 19:24:53.0</td>\n",
       "      <td>https://esriaiddev.maps.arcgis.com/apps/instan...</td>\n",
       "    </tr>\n",
       "    <tr>\n",
       "      <th>5401</th>\n",
       "      <td>c40a3e5e9db3427b9804c836335c4a54</td>\n",
       "      <td>Test Example</td>\n",
       "      <td>ajenkins_EsriAidDev</td>\n",
       "      <td>Adam Jenkins</td>\n",
       "      <td>991</td>\n",
       "      <td>2021-03-26 19:26:35.0</td>\n",
       "      <td>2021-03-26 19:27:02.0</td>\n",
       "      <td>https://esriaiddev.maps.arcgis.com/apps/instan...</td>\n",
       "    </tr>\n",
       "    <tr>\n",
       "      <th>5402</th>\n",
       "      <td>7095acc7482d4ca88f16febaab0a81be</td>\n",
       "      <td>Esri Aid &amp; Dev Feature Service Management Dash...</td>\n",
       "      <td>ckwon_aid</td>\n",
       "      <td>Calvin Kwon</td>\n",
       "      <td>34314</td>\n",
       "      <td>2021-03-26 19:48:40.0</td>\n",
       "      <td>2021-03-28 19:19:07.0</td>\n",
       "      <td>None</td>\n",
       "    </tr>\n",
       "  </tbody>\n",
       "</table>\n",
       "<p>5403 rows × 8 columns</p>\n",
       "</div>"
      ],
      "text/plain": [
       "                                    id  \\\n",
       "0     c13d470a1c024318ad221d75412649b4   \n",
       "1     d3bf9513eb6148e99df2436563fe3167   \n",
       "2     8bfad945962f4d40b0ae7ce7f74293e3   \n",
       "3     b6f3ab78228f45578427ee1f055b0995   \n",
       "4     cb2cbb56c69746b0b5b29753c6bf404b   \n",
       "...                                ...   \n",
       "5398  76fc35d2fac04119a1a8a684f216299c   \n",
       "5399  dba564a23ac84b90bc4cfd2fc287a39f   \n",
       "5400  2edf8faf5cc84269b6aad2d930f4d0ab   \n",
       "5401  c40a3e5e9db3427b9804c836335c4a54   \n",
       "5402  7095acc7482d4ca88f16febaab0a81be   \n",
       "\n",
       "                                                  title                owner  \\\n",
       "0                                   SIDW_Forum_Sponsors          ssawaya_aid   \n",
       "1                                   SIDW_Forum_Sponsors          ssawaya_aid   \n",
       "2                               SID-W 2013 Sponsors HQs          ssawaya_aid   \n",
       "3                                   SID-W 2013 Sponsors          ssawaya_aid   \n",
       "4                                        AgMarketFinder          ssawaya_aid   \n",
       "...                                                 ...                  ...   \n",
       "5398                Environmental Impact Public Comment  ajenkins_EsriAidDev   \n",
       "5399                      Global Stream Flow Web Map-AJ  ajenkins_EsriAidDev   \n",
       "5400                                             Stream  ajenkins_EsriAidDev   \n",
       "5401                                       Test Example  ajenkins_EsriAidDev   \n",
       "5402  Esri Aid & Dev Feature Service Management Dash...            ckwon_aid   \n",
       "\n",
       "          fullname   size                created               modified  \\\n",
       "0     Salim Sawaya  11105  2013-06-02 16:57:52.0  2021-03-22 19:41:53.0   \n",
       "1     Salim Sawaya  57344  2013-06-02 16:57:55.0  2013-06-06 06:07:16.0   \n",
       "2     Salim Sawaya   2781  2013-06-02 17:09:41.0  2013-06-06 17:02:16.0   \n",
       "3     Salim Sawaya    488  2013-06-02 17:11:19.0  2013-06-02 21:19:29.0   \n",
       "4     Salim Sawaya      0  2013-06-03 01:41:47.0  2013-06-03 05:45:51.0   \n",
       "...            ...    ...                    ...                    ...   \n",
       "5398  Adam Jenkins   3721  2021-03-26 15:04:48.0  2021-03-26 15:09:18.0   \n",
       "5399  Adam Jenkins   3086  2021-03-26 19:20:39.0  2021-03-26 19:20:43.0   \n",
       "5400  Adam Jenkins    670  2021-03-26 19:23:23.0  2021-03-26 19:24:53.0   \n",
       "5401  Adam Jenkins    991  2021-03-26 19:26:35.0  2021-03-26 19:27:02.0   \n",
       "5402   Calvin Kwon  34314  2021-03-26 19:48:40.0  2021-03-28 19:19:07.0   \n",
       "\n",
       "                                                    url  \n",
       "0                                                  None  \n",
       "1     http://services.arcgis.com/LG9Yn2oFqZi5PnO5/ar...  \n",
       "2                                                  None  \n",
       "3     http://esriaiddev.maps.arcgis.com/apps/SocialM...  \n",
       "4                             http://marketfinder.info/  \n",
       "...                                                 ...  \n",
       "5398  https://EsriAidDev.maps.arcgis.com/apps/Crowds...  \n",
       "5399                                               None  \n",
       "5400  https://esriaiddev.maps.arcgis.com/apps/instan...  \n",
       "5401  https://esriaiddev.maps.arcgis.com/apps/instan...  \n",
       "5402                                               None  \n",
       "\n",
       "[5403 rows x 8 columns]"
      ]
     },
     "execution_count": 5,
     "metadata": {},
     "output_type": "execute_result"
    }
   ],
   "source": [
    "#From the REST URL, request all items in the organization. \n",
    "#Create a dictionary of the results, and print out the output. \n",
    "url = f'{gis.url}/sharing/rest/content/portals/{gis.properties.id}'\n",
    "\n",
    "params = {\n",
    "    'f': 'csv',\n",
    "    'token': gis._portal.con.token\n",
    "}\n",
    "\n",
    "#Get a string response from the request and construct a DataFrame\n",
    "csv_out = requests.get(url, params=params).text\n",
    "df = pd.read_csv(io.StringIO(str(csv_out)))\n",
    "\n",
    "#Replace NaN values in the df as presence of NaN results in error when adding features to the feature table\n",
    "df_filled = df.fillna('None')\n",
    "df_filled"
   ]
  },
  {
   "cell_type": "code",
   "execution_count": 6,
   "metadata": {},
   "outputs": [
    {
     "data": {
      "text/plain": [
       "[{'attributes': {'id': 'c13d470a1c024318ad221d75412649b4',\n",
       "   'title': 'SIDW_Forum_Sponsors',\n",
       "   'owner': 'ssawaya_aid',\n",
       "   'fullname': 'Salim Sawaya',\n",
       "   'created': '2013-06-02 16:57:52.0',\n",
       "   'modified': '2021-03-22 19:41:53.0',\n",
       "   'url': 'None',\n",
       "   'size': 11105,\n",
       "   'size_mb': '0.011105',\n",
       "   'access': 'private',\n",
       "   'type': 'CSV',\n",
       "   'snippet': None,\n",
       "   'categories': '',\n",
       "   'numComments': 0,\n",
       "   'numRatings': 0,\n",
       "   'numViews': 1,\n",
       "   'scoreCompleteness': 33,\n",
       "   'tags': '',\n",
       "   'tag_status': 'no'}}]"
      ]
     },
     "execution_count": 6,
     "metadata": {},
     "output_type": "execute_result"
    }
   ],
   "source": [
    "#Iterate through each record, add new item attributes, and determine if 'test' exists in the title & the tag.\n",
    "\n",
    "f_item = []\n",
    "attributeMap = ['id','title','owner','fullname','created','modified','url','size']\n",
    "\n",
    "for index, row in df_filled.iterrows():\n",
    "    #Create an empty dictionary for each item\n",
    "    f = {\"attributes\":{}}\n",
    "    \n",
    "    #Write the row of each record to the dictionary\n",
    "    for field in attributeMap:\n",
    "        f['attributes'][field] = row[field]\n",
    "    \n",
    "    #Then convert size in bytes to megabytes, format to six decimal places & update\n",
    "    size_mb = int(row['size'])/1000000\n",
    "    f['attributes']['size_mb'] = \"{:.6f}\".format(size_mb)\n",
    "    \n",
    "    #Get the item and include additional fields\n",
    "    #Documentation on available fields: https://developers.arcgis.com/rest/users-groups-and-items/common-parameters.htm#ESRI_SECTION1_1FFBA7FE775B4BDA8D97524A6B9F7C98\n",
    "    item = gis.content.get(itemid=row['id'])\n",
    "    f['attributes']['access'] = item['access']\n",
    "    f['attributes']['type'] = item['type']\n",
    "    f['attributes']['snippet'] = item['snippet']\n",
    "    f['attributes']['categories'] = str(item['categories']).strip('[]') #Convert to string & remove the []. A list cannot be inserted into a string field in the hosted table\n",
    "    f['attributes']['numComments'] = item['numComments']\n",
    "    f['attributes']['numRatings'] = item['numRatings']\n",
    "    f['attributes']['numViews'] = item['numViews']\n",
    "    f['attributes']['scoreCompleteness'] = item['scoreCompleteness']\n",
    "    f['attributes']['tags'] = str(item['tags']).strip('[]') #Convert to string & remove the []. A list cannot be inserted into a string field in the hosted table\n",
    "    \n",
    "    #For each item, check if the title or tag contains the word 'test'\n",
    "    #First check if the item has a title. If it does not, indicate the item. \n",
    "    #Then check if the title has the word 'test,' followed by the tag\n",
    "    #Assign a variable for title, tag, and id to simplify logic below\n",
    "    item_title = f['attributes']['title']\n",
    "    item_tag = f['attributes']['tags']\n",
    "    item_id = f['attributes']['id']\n",
    "    \n",
    "    if isinstance(item_title, float): \n",
    "        print(f'Item ID:{item_id} does not have a valid title')\n",
    "    else: \n",
    "        if 'test' in item_title:\n",
    "            f['attributes']['tag_status'] = 'yes'\n",
    "        elif item_tag != '':\n",
    "            if 'test' in item_tag:\n",
    "                f['attributes']['tag_status'] = 'yes'\n",
    "            else:\n",
    "                f['attributes']['tag_status'] = 'no'            \n",
    "        else:\n",
    "            f['attributes']['tag_status'] = 'no'            \n",
    "    \n",
    "    #Append the record to the list \n",
    "    f_item.append(f)\n",
    "\n",
    "#Display the first 5 items as output\n",
    "f_item[:1]"
   ]
  },
  {
   "cell_type": "code",
   "execution_count": 7,
   "metadata": {},
   "outputs": [
    {
     "name": "stdout",
     "output_type": "stream",
     "text": [
      "5403 items were checked...\n",
      "267 items have the word \"test\" in the title or the tag.\n"
     ]
    }
   ],
   "source": [
    "#Count the number of items where tag_status = 'yes' for reporting purposes  \n",
    "count_yes = 0\n",
    "count_no = 0\n",
    "\n",
    "for record in f_item:\n",
    "    tag_status = record.get('attributes',{}).get('tag_status')\n",
    "    if tag_status == 'yes':\n",
    "        count_yes += 1\n",
    "    else:\n",
    "        count_no += 1\n",
    "\n",
    "count_total = count_yes + count_no\n",
    "        \n",
    "print(f'{count_total} items were checked...')\n",
    "print(f'{count_yes} items have the word \"test\" in the title or the tag.')"
   ]
  },
  {
   "cell_type": "code",
   "execution_count": 8,
   "metadata": {},
   "outputs": [
    {
     "data": {
      "text/plain": [
       "<Table url:\"https://services.arcgis.com/LG9Yn2oFqZi5PnO5/arcgis/rest/services/item_details/FeatureServer/0\">"
      ]
     },
     "execution_count": 8,
     "metadata": {},
     "output_type": "execute_result"
    }
   ],
   "source": [
    "##REQUIRE USER INPUT##\n",
    "#Select the Hosted Table for update\n",
    "\n",
    "#If this is the first time running the notebook, create the hosted table with the following CSV. \n",
    "#https://esriis-my.sharepoint.com/:x:/g/personal/cal10660_esri_com/EYi8huq-F25AipgAONwVK5IB5NOOIFop9WaHXteq9TGJSw?e=ZCdFNa\n",
    "\n",
    "#Make sure to set the field types correctly.\n",
    "#String: id, title, owner, fullname, url, access, type, snippet, categories, tags, tag_status\n",
    "#Integer: numComments, numRatings, numViews, scoreCompleteness\n",
    "#Double: size, size_mb\n",
    "#Date: created, modified\n",
    "\n",
    "item_id = '4602725d51234a7ba6887b5b491d3b0e'\n",
    "dest_fl = gis.content.get(item_id).tables[0]\n",
    "dest_fl"
   ]
  },
  {
   "cell_type": "code",
   "execution_count": 9,
   "metadata": {},
   "outputs": [
    {
     "name": "stdout",
     "output_type": "stream",
     "text": [
      "success...\n"
     ]
    }
   ],
   "source": [
    "#Update the Hosted Table with the item details\n",
    "dest_fl.delete_features(where=\"1=1\")\n",
    "result = dest_fl.edit_features(adds=f_item)\n",
    "print('success...')"
   ]
  },
  {
   "cell_type": "markdown",
   "metadata": {},
   "source": [
    "# User Administration"
   ]
  },
  {
   "cell_type": "code",
   "execution_count": 10,
   "metadata": {},
   "outputs": [
    {
     "name": "stdout",
     "output_type": "stream",
     "text": [
      "95 users found...\n"
     ]
    }
   ],
   "source": [
    "#Search for users in the organization \n",
    "search = 1000 #Make sure this value exceeds the no. of users in the org\n",
    "users_all = gis.users.search(max_users=search)\n",
    "users_count = len(users_all)\n",
    "print(f'{users_count} users found...')"
   ]
  },
  {
   "cell_type": "code",
   "execution_count": 11,
   "metadata": {},
   "outputs": [
    {
     "data": {
      "text/plain": [
       "[{'attributes': {'username': 'AGiron_aid',\n",
       "   'id': 'a64c4d9e27704dc2929b83a68947b436',\n",
       "   'fullName': 'Amanda Giron',\n",
       "   'availableCredits': 1000.0,\n",
       "   'assignedCredits': 1000.0,\n",
       "   'preferredView': None,\n",
       "   'email': 'AGiron@esri.com',\n",
       "   'lastLogin': 1607967224000,\n",
       "   'mfaEnabled': False,\n",
       "   'access': 'org',\n",
       "   'orgId': 'LG9Yn2oFqZi5PnO5',\n",
       "   'role': 'org_publisher',\n",
       "   'user_privileges': 'edit, bulkPublishFromDataStores, publishDynamicImagery, publishFeatures, publishScenes, publishServerServices, publishTiledImagery, publishTiles, registerDataStores, categorizeItems, createGroup, createItem, joinGroup, joinNonOrgGroup, shareGroupToOrg, shareGroupToPublic, shareToGroup, shareToOrg, shareToPublic, viewOrgGroups, viewOrgItems, viewOrgUsers, geoanalytics, demographics, elevation, featurereport, geocode, stored, temporary, geoenrichment, networkanalysis, closestfacility, locationallocation, optimizedrouting, origindestinationcostmatrix, routing, servicearea, vehiclerouting, spatialanalysis',\n",
       "   'userLicenseTypeId': 'advancedUT',\n",
       "   'disabled': False,\n",
       "   'region': 'WO',\n",
       "   'thumbnail': None,\n",
       "   'created': 1600455347000,\n",
       "   'modified': 1607967239000,\n",
       "   'groups': 1,\n",
       "   'provider': 'arcgis',\n",
       "   'item': 0,\n",
       "   'myEsri': 'arcgisonly'}}]"
      ]
     },
     "execution_count": 11,
     "metadata": {},
     "output_type": "execute_result"
    }
   ],
   "source": [
    "#Iterate through each user, determine various properties, and create a list of dictionary\n",
    "#Refer to properties of User Object: https://developers.arcgis.com/rest/users-groups-and-items/user.htm\n",
    "f_user = []\n",
    "attributeMap = ['username','id','fullName','availableCredits','assignedCredits','preferredView', 'email','lastLogin','mfaEnabled','access',\n",
    "                'orgId','role','privileges','userLicenseTypeId','disabled', 'region','thumbnail','created','modified','groups','provider']\n",
    "\n",
    "for user in users_all:\n",
    "    f = {\"attributes\":{}}\n",
    "    for field in attributeMap: \n",
    "        f['attributes'][field] = user[field]\n",
    "        \n",
    "        #Format privileges and add to the dictionary\n",
    "        if field == 'privileges':\n",
    "            privilege = user[field]\n",
    "            privilege_ls = []\n",
    "            i = 0\n",
    "            while i < len(user[field]): #Since privileges assigned varies with each user, find the length of the list.\n",
    "                privilege_str = user[field][i] #Take the i-th item in the list \n",
    "                privilege_name = privilege_str.rsplit(':',1)[1] #Format from [portal]:[usertype]:[privilege] to [privilege]\n",
    "                privilege_ls.append(privilege_name) #Append the formatted string to a list\n",
    "                i = i + 1\n",
    "            f['attributes']['user_privileges'] = str(privilege_ls).strip('[]').replace('\\'','') #Remove the brackets and quotation mark to insert the string to the dictionary.\n",
    "            del f['attributes'][field]                                                          #Privilege is a SQL keyword so change to user_privileges. Delete Privileges key from the dict.\n",
    "        \n",
    "        #Count the number of groups\n",
    "        if field == 'groups':\n",
    "            group_count = len(user[field])\n",
    "            f['attributes'][field] = group_count\n",
    "            \n",
    "    #Count the number of items owned by each user\n",
    "    item_count = len(user.items(max_items = 1000)) #Max_item is defaulted to 100\n",
    "    f['attributes']['item'] = item_count\n",
    "    \n",
    "    #Determine My Esri access status\n",
    "    myesri_access = user.esri_access\n",
    "    f['attributes']['myEsri'] = myesri_access\n",
    "    \n",
    "    #Append the record to the list \n",
    "    f_user.append(f)\n",
    "\n",
    "#Display the first 5 items as output\n",
    "f_user[:1]"
   ]
  },
  {
   "cell_type": "code",
   "execution_count": 12,
   "metadata": {},
   "outputs": [
    {
     "data": {
      "text/plain": [
       "<Table url:\"https://services.arcgis.com/LG9Yn2oFqZi5PnO5/arcgis/rest/services/user_details/FeatureServer/0\">"
      ]
     },
     "execution_count": 12,
     "metadata": {},
     "output_type": "execute_result"
    }
   ],
   "source": [
    "##REQUIRE USER INPUT##\n",
    "#Select the Hosted Table for update\n",
    "\n",
    "#If this is the first time running the notebook, create the hosted table with the following CSV. \n",
    "#https://esriis-my.sharepoint.com/:x:/g/personal/cal10660_esri_com/EUPUqn1jvk9BptlGbTPmOEYBVuJOvsAUHjy5tsBXuLGimw?e=adOeGU\n",
    "\n",
    "#Make sure to set the field types correctly.\n",
    "#String: username, id, fullName, preferredView, email, mfaEnabled, access, orgId, role, privileges, userLicenseTypeId, disabled, region, thumbnail, provider, myEsri\n",
    "#Integer: storageUsage, storageQuota, groups, item\n",
    "#Double: availableCredits, assignedCredits\n",
    "#Date: lastLogin, created, modified\n",
    "\n",
    "item_id = '93c7b07deea146e58b42ca154f439a5e'\n",
    "dest_fl = gis.content.get(item_id).tables[0]\n",
    "dest_fl"
   ]
  },
  {
   "cell_type": "code",
   "execution_count": 13,
   "metadata": {},
   "outputs": [
    {
     "name": "stdout",
     "output_type": "stream",
     "text": [
      "success...\n"
     ]
    }
   ],
   "source": [
    "#Update the Hosted Table with the item details\n",
    "dest_fl.delete_features(where=\"1=1\")\n",
    "result = dest_fl.edit_features(adds=f_user)\n",
    "print('success...')"
   ]
  },
  {
   "cell_type": "markdown",
   "metadata": {},
   "source": [
    "# Hosted Feature Service Tracking"
   ]
  },
  {
   "cell_type": "code",
   "execution_count": 14,
   "metadata": {},
   "outputs": [],
   "source": [
    "# @Purpose: Hosted feature service is the most versatile and frequently used type of layer in ArcGIS Online.\n",
    "# But with the versatility comes cost storing the layers and they are generally the leading source of credit consumption.\n",
    "# This notebook is meant to be run once a day to keep a running history of feature service usage in the organization \n",
    "# in a format that is easy to digest and explore, enabling the administrator to maintain oversight of usage. "
   ]
  },
  {
   "cell_type": "code",
   "execution_count": 15,
   "metadata": {},
   "outputs": [
    {
     "name": "stdout",
     "output_type": "stream",
     "text": [
      "1246 feature layers found in the organization...\n"
     ]
    },
    {
     "data": {
      "text/plain": [
       "[{'attributes': {'id': 'd3bf9513eb6148e99df2436563fe3167',\n",
       "   'title': 'SIDW_Forum_Sponsors',\n",
       "   'owner': 'ssawaya_aid',\n",
       "   'fullname': 'Salim Sawaya',\n",
       "   'created': '2013-06-02 16:57:55.0',\n",
       "   'modified': '2013-06-06 06:07:16.0',\n",
       "   'url': 'http://services.arcgis.com/LG9Yn2oFqZi5PnO5/arcgis/rest/services/SIDW_Forum_Sponsors/FeatureServer',\n",
       "   'size': 57344,\n",
       "   'size_mb': '0.057344',\n",
       "   'access': 'public',\n",
       "   'type': 'Feature Service',\n",
       "   'snippet': '',\n",
       "   'categories': '',\n",
       "   'numComments': 0,\n",
       "   'numRatings': 0,\n",
       "   'numViews': 170,\n",
       "   'scoreCompleteness': 33,\n",
       "   'tags': \"'SIDW'\",\n",
       "   'tag_status': 'no',\n",
       "   'date_updated': '2021/03/29',\n",
       "   'credit_cost': 0.01376256,\n",
       "   'remaining_credits': 50571.32,\n",
       "   'last_login': 1611754636000}}]"
      ]
     },
     "execution_count": 15,
     "metadata": {},
     "output_type": "execute_result"
    }
   ],
   "source": [
    "#Take the f_item generated from the previous steps and create a new list with type = Feature Service\n",
    "fl_lst = []\n",
    "date_today = datetime.datetime.today().strftime('%Y/%m/%d') #Date when the code is run \n",
    "\n",
    "for items in f_item:\n",
    "    if items['attributes']['type'] == 'Feature Service':\n",
    "        items['attributes']['date_updated'] = date_today\n",
    "        items['attributes']['credit_cost'] = float(items['attributes']['size_mb']) * .24 #Convert storage to credit cost\n",
    "        items['attributes']['remaining_credits'] =  gis.admin.credits.credits #Get the remaining credits in the organization\n",
    "        fl_lst.append(items)\n",
    "\n",
    "#Add the user's last login information to the item\n",
    "for fl in fl_lst:\n",
    "    item_owner = fl['attributes']['owner']\n",
    "    \n",
    "    for user in f_user:\n",
    "        username = user['attributes']['username'] \n",
    "        \n",
    "        if item_owner == username:\n",
    "            fl['attributes']['last_login'] = user['attributes']['lastLogin'] \n",
    "\n",
    "#Summarize the results\n",
    "fl_count = len(fl_lst)\n",
    "print(f'{fl_count} feature layers found in the organization...')\n",
    "fl_lst[:1]"
   ]
  },
  {
   "cell_type": "code",
   "execution_count": 16,
   "metadata": {},
   "outputs": [
    {
     "data": {
      "text/plain": [
       "<Table url:\"https://services.arcgis.com/LG9Yn2oFqZi5PnO5/arcgis/rest/services/fl_details/FeatureServer/0\">"
      ]
     },
     "execution_count": 16,
     "metadata": {},
     "output_type": "execute_result"
    }
   ],
   "source": [
    "##REQUIRE USER INPUT##\n",
    "#Select the Hosted Table for update\n",
    "\n",
    "#If this is the first time running the notebook, create the hosted table with the following CSV. \n",
    "#https://esriis-my.sharepoint.com/:x:/g/personal/cal10660_esri_com/EeTMhaHSsK9EnjJwYrtnJJ4BNOx-qLU-dcJu_DC5i6rquQ?e=I9ZEDY\n",
    "\n",
    "#Make sure to set the field types correctly.\n",
    "#String: id, title, owner, fullname, url, access, type, snippet, categories, tags, tag_status\n",
    "#Integer: numComments, numRatings, numViews, scoreCompleteness\n",
    "#Double: size, size_mb\n",
    "#Date: created, modified, date_updated\n",
    "\n",
    "item_id = '4f9ea13534304f799a8378af30b63c72'\n",
    "dest_fl = gis.content.get(item_id).tables[0]\n",
    "dest_fl"
   ]
  },
  {
   "cell_type": "code",
   "execution_count": 17,
   "metadata": {},
   "outputs": [
    {
     "name": "stdout",
     "output_type": "stream",
     "text": [
      "success...\n"
     ]
    }
   ],
   "source": [
    "#Update the Hosted Table with the item details\n",
    "dest_fl.delete_features(where=f'date_updated = \\'{date_today}\\'') #If the notebook is run more than once a day, delete any previous records from the same day. \n",
    "result = dest_fl.edit_features(adds=fl_lst)\n",
    "print('success...')"
   ]
  },
  {
   "cell_type": "markdown",
   "metadata": {},
   "source": [
    "# License Administration"
   ]
  },
  {
   "cell_type": "code",
   "execution_count": 18,
   "metadata": {},
   "outputs": [],
   "source": [
    "# licenses = gis.admin.license.all()\n",
    "\n",
    "# f_license = []\n",
    "\n",
    "# for license in licenses:\n",
    "#     f = {\"attributes\":{}}\n",
    "#     try:\n",
    "#         report = license.report\n",
    "#         #print(report)\n",
    "#         for index, row in report.iterrows():\n",
    "#             licensename = license.properties.listing.title\n",
    "#             #print(licensename)\n",
    "#             #print(report.shape[0])\n",
    "#             if report.shape[0] > 1:\n",
    "#                 f['attributes']['Entitlement'] = row['Entitlement']\n",
    "#                 f['attributes']['Total'] = row['Total']\n",
    "#                 f['attributes']['Assigned'] = row['Assigned']\n",
    "#                 f['attributes']['Remaining'] = row['Remaining']\n",
    "#                 f_license.append(f)\n",
    "#     except:\n",
    "#         continue\n",
    "        \n",
    "# f_license"
   ]
  },
  {
   "cell_type": "markdown",
   "metadata": {},
   "source": [
    "# Licensing"
   ]
  },
  {
   "cell_type": "code",
   "execution_count": 19,
   "metadata": {},
   "outputs": [],
   "source": [
    "# '''''''''''''''''''''''''''''''''''''''''''''''''''''''''''''''''\n",
    "#    Copyright © 2021 Esri\n",
    "#\n",
    "#    All rights reserved under the copyright laws of the United States \n",
    "#    and applicable international laws, treaties, and conventions.\n",
    "#    You may freely redistribute and use this sample code, with or \n",
    "#    without modification, provided you include the original copyright \n",
    "#    notice and use restrictions.\n",
    "#\n",
    "#    Disclaimer: THE SAMPLE CODE IS PROVIDED \"AS IS\" AND ANY EXPRESS \n",
    "#    OR IMPLIED WARRANTIES, INCLUDING THE IMPLIED WARRANTIES OF \n",
    "#    MERCHANTABILITY AND FITNESS FOR A PARTICULAR PURPOSE ARE \n",
    "#    DISCLAIMED. IN NO EVENT SHALL ESRI OR CONTRIBUTORS BE LIABLE FOR\n",
    "#    ANY DIRECT, INDIRECT, INCIDENTAL, SPECIAL, EXEMPLARY, OR CONSEQUENTIAL \n",
    "#    DAMAGES (INCLUDING, BUT NOT LIMITED TO, PROCUREMENT OF SUBSTITUTE GOODS \n",
    "#    OR SERVICES; LOSS OF USE, DATA, OR PROFITS; OR BUSINESS INTERRUPTION) \n",
    "#    SUSTAINED BY YOU OR A THIRD PARTY, HOWEVER CAUSED AND ON ANY THEORY OF LIABILITY, \n",
    "#    WHETHER IN CONTRACT, STRICT LIABILITY, OR TORT ARISING IN ANY WAY OUT OF THE USE \n",
    "#    OF THIS SAMPLE CODE, EVEN IF ADVISED OF THE POSSIBILITY OF SUCH DAMAGE.\n",
    "#\n",
    "#    For additional information, contact:\n",
    "#    Esri\n",
    "#    Attn: Contracts and Legal Services Department\n",
    "#    380 New York Street\n",
    "#    Redlands, California, 92373-8100\n",
    "#    USA\n",
    "#    email: contracts@esri.com\n",
    "# '''''''''''''''''''''''''''''''''''''''''''''''''''''''''''''''''"
   ]
  }
 ],
 "metadata": {
  "kernelspec": {
   "display_name": "Python 3",
   "language": "python",
   "name": "python3"
  },
  "language_info": {
   "codemirror_mode": {
    "name": "ipython",
    "version": 3
   },
   "file_extension": ".py",
   "mimetype": "text/x-python",
   "name": "python",
   "nbconvert_exporter": "python",
   "pygments_lexer": "ipython3",
   "version": "3.7.9"
  }
 },
 "nbformat": 4,
 "nbformat_minor": 4
}
