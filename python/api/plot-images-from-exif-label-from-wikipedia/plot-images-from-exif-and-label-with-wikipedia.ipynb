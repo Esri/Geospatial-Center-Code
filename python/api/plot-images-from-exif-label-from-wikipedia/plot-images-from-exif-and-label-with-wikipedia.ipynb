{
 "cells": [
  {
   "cell_type": "code",
   "execution_count": null,
   "metadata": {},
   "outputs": [],
   "source": [
    "#Import python packages. Some may need to be installed using the Python Package Manager.\n",
    "\n",
    "import os\n",
    "import datetime\n",
    "import exifread\n",
    "from PIL import Image\n",
    "import wikipedia"
   ]
  },
  {
   "cell_type": "code",
   "execution_count": null,
   "metadata": {},
   "outputs": [],
   "source": [
    "#This is the only variable that needs to be set. It is the path to the folder of images.\n",
    "\n",
    "path = \"C:\\\\1_projects\\\\138_fedgis2021\\\\images\\\\\""
   ]
  },
  {
   "cell_type": "code",
   "execution_count": null,
   "metadata": {},
   "outputs": [],
   "source": [
    "#This function converts the coordinates contained in the exif to decimal degrees.\n",
    "\n",
    "def _convert_to_degress(value):\n",
    "    d = float(value.values[0].num) / float(value.values[0].den)\n",
    "    m = float(value.values[1].num) / float(value.values[1].den)\n",
    "    s = float(value.values[2].num) / float(value.values[2].den)\n",
    "\n",
    "    return d + (m / 60.0) + (s / 3600.0)"
   ]
  },
  {
   "cell_type": "code",
   "execution_count": null,
   "metadata": {},
   "outputs": [],
   "source": [
    "#This code reads the exif data, scrapes wikipedia, and plots each location in a geodatabase.\n",
    "\n",
    "arcpy.env.workspace = path\n",
    "current_time = datetime.datetime.now().strftime(\"%B_%d_%Y_%I_%M_%S%p\")\n",
    "arcpy.CreateFileGDB_management(path, current_time + '.gdb')\n",
    "SR = arcpy.SpatialReference(4326)\n",
    "new_point = arcpy.CreateFeatureclass_management(path + current_time + '.gdb', \"Pictures\", 'POINT', spatial_reference=SR)\n",
    "fc = new_point[0]\n",
    "arcpy.AddField_management(fc, \"Name\", \"TEXT\", \"\", \"\", 100, \"Name\")\n",
    "arcpy.AddField_management(fc, \"Image_Link\", \"TEXT\", \"\", \"\", 100, \"Image_Link\")\n",
    "arcpy.AddField_management(fc, \"Wiki_Link\", \"TEXT\", \"\", \"\", 200, \"Wiki_link\")\n",
    "    \n",
    "\n",
    "for filename in os.listdir(path):\n",
    "    if filename.endswith(\".JPG\") or filename.endswith(\".PNG\") or filename.endswith(\".jpg\") or filename.endswith(\".png\"):\n",
    "        im = Image.open(os.path.join(path, filename))\n",
    "        tags = {}\n",
    "        with open(os.path.join(path, filename), 'rb') as f:\n",
    "            tags = exifread.process_file(f, details=False)\n",
    "        if \"GPS GPSLatitude\" in tags.keys():\n",
    "            lat = _convert_to_degress(tags[\"GPS GPSLatitude\"])\n",
    "            latRef = tags[\"GPS GPSLatitudeRef\"]\n",
    "            lngRef = tags[\"GPS GPSLongitudeRef\"]\n",
    "            if str(latRef) == 'S':\n",
    "                lat = -lat\n",
    "            lng = _convert_to_degress(tags[\"GPS GPSLongitude\"])\n",
    "            if str(lngRef) == 'W':\n",
    "                lng = -lng\n",
    "            name_search = wikipedia.geosearch(lat, lng, results=1, radius=10000)\n",
    "            name = name_search[0]\n",
    "            wiki = \"https://en.wikipedia.org/wiki/\" + name.replace(\" \", \"_\")\n",
    "            with arcpy.da.InsertCursor(fc, ['SHAPE@', 'Name', \"Image_Link\", \"Wiki_link\"]) as cursor:\n",
    "                coordinates = arcpy.Point(lng,lat)\n",
    "                cursor.insertRow((coordinates, str(name).replace(\",\",\"\"), filename, wiki))\n",
    "                \n",
    "print(\"Export complete.\")"
   ]
  },
  {
   "cell_type": "code",
   "execution_count": null,
   "metadata": {},
   "outputs": [],
   "source": []
  }
 ],
 "metadata": {
  "kernelspec": {
   "display_name": "ArcGISPro",
   "language": "Python",
   "name": "python3"
  },
  "language_info": {
   "file_extension": ".py",
   "name": "python",
   "version": "3"
  }
 },
 "nbformat": 4,
 "nbformat_minor": 2
}
